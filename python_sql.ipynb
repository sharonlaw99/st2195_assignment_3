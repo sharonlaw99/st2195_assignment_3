{
 "cells": [
  {
   "cell_type": "markdown",
   "id": "bdb471ac",
   "metadata": {},
   "source": [
    "## Preparation\n",
    "Import the modules and remove previous database (if any)."
   ]
  },
  {
   "cell_type": "code",
   "execution_count": 1,
   "id": "c43264c3",
   "metadata": {},
   "outputs": [
    {
     "data": {
      "text/plain": [
       "'D:\\\\dataverse_files'"
      ]
     },
     "execution_count": 1,
     "metadata": {},
     "output_type": "execute_result"
    }
   ],
   "source": [
    "import sqlite3\n",
    "import pandas as pd\n",
    "import os\n",
    "os.chdir('D:\\dataverse_files')\n",
    "os.getcwd()"
   ]
  },
  {
   "cell_type": "code",
   "execution_count": 2,
   "id": "fce06d56",
   "metadata": {},
   "outputs": [],
   "source": [
    "try:\n",
    "    os.remove('airline2.db')\n",
    "except OSError:\n",
    "    pass"
   ]
  },
  {
   "cell_type": "markdown",
   "id": "5aa79ddc",
   "metadata": {},
   "source": [
    "## Create database\n",
    "Create database in the working directory and connect it to SQLite"
   ]
  },
  {
   "cell_type": "code",
   "execution_count": 3,
   "id": "955feada",
   "metadata": {},
   "outputs": [],
   "source": [
    "conn = sqlite3.connect('airline2.db')"
   ]
  },
  {
   "cell_type": "markdown",
   "id": "2e701583",
   "metadata": {},
   "source": [
    "## Create tables\n",
    "Create the tables for airports, carrier and plane-data dataset"
   ]
  },
  {
   "cell_type": "code",
   "execution_count": 4,
   "id": "37796202",
   "metadata": {},
   "outputs": [],
   "source": [
    "planes = pd.read_csv(\"plane-data.csv\")\n",
    "airports = pd.read_csv(\"airports.csv\")\n",
    "carriers = pd.read_csv(\"carriers.csv\")\n",
    "\n",
    "planes.to_sql(\"planes\", con = conn, index = False)\n",
    "airports.to_sql(\"airports\", con = conn, index = False)\n",
    "carriers.to_sql(\"carriers\", con = conn, index = False)"
   ]
  },
  {
   "cell_type": "code",
   "execution_count": 5,
   "id": "ec37f5cc",
   "metadata": {},
   "outputs": [
    {
     "data": {
      "text/html": [
       "<div>\n",
       "<style scoped>\n",
       "    .dataframe tbody tr th:only-of-type {\n",
       "        vertical-align: middle;\n",
       "    }\n",
       "\n",
       "    .dataframe tbody tr th {\n",
       "        vertical-align: top;\n",
       "    }\n",
       "\n",
       "    .dataframe thead th {\n",
       "        text-align: right;\n",
       "    }\n",
       "</style>\n",
       "<table border=\"1\" class=\"dataframe\">\n",
       "  <thead>\n",
       "    <tr style=\"text-align: right;\">\n",
       "      <th></th>\n",
       "      <th>iata</th>\n",
       "      <th>airport</th>\n",
       "      <th>city</th>\n",
       "      <th>state</th>\n",
       "      <th>country</th>\n",
       "      <th>lat</th>\n",
       "      <th>long</th>\n",
       "    </tr>\n",
       "  </thead>\n",
       "  <tbody>\n",
       "    <tr>\n",
       "      <th>0</th>\n",
       "      <td>00M</td>\n",
       "      <td>Thigpen</td>\n",
       "      <td>Bay Springs</td>\n",
       "      <td>MS</td>\n",
       "      <td>USA</td>\n",
       "      <td>31.953765</td>\n",
       "      <td>-89.234505</td>\n",
       "    </tr>\n",
       "    <tr>\n",
       "      <th>1</th>\n",
       "      <td>00R</td>\n",
       "      <td>Livingston Municipal</td>\n",
       "      <td>Livingston</td>\n",
       "      <td>TX</td>\n",
       "      <td>USA</td>\n",
       "      <td>30.685861</td>\n",
       "      <td>-95.017928</td>\n",
       "    </tr>\n",
       "    <tr>\n",
       "      <th>2</th>\n",
       "      <td>00V</td>\n",
       "      <td>Meadow Lake</td>\n",
       "      <td>Colorado Springs</td>\n",
       "      <td>CO</td>\n",
       "      <td>USA</td>\n",
       "      <td>38.945749</td>\n",
       "      <td>-104.569893</td>\n",
       "    </tr>\n",
       "    <tr>\n",
       "      <th>3</th>\n",
       "      <td>01G</td>\n",
       "      <td>Perry-Warsaw</td>\n",
       "      <td>Perry</td>\n",
       "      <td>NY</td>\n",
       "      <td>USA</td>\n",
       "      <td>42.741347</td>\n",
       "      <td>-78.052081</td>\n",
       "    </tr>\n",
       "    <tr>\n",
       "      <th>4</th>\n",
       "      <td>01J</td>\n",
       "      <td>Hilliard Airpark</td>\n",
       "      <td>Hilliard</td>\n",
       "      <td>FL</td>\n",
       "      <td>USA</td>\n",
       "      <td>30.688012</td>\n",
       "      <td>-81.905944</td>\n",
       "    </tr>\n",
       "    <tr>\n",
       "      <th>...</th>\n",
       "      <td>...</td>\n",
       "      <td>...</td>\n",
       "      <td>...</td>\n",
       "      <td>...</td>\n",
       "      <td>...</td>\n",
       "      <td>...</td>\n",
       "      <td>...</td>\n",
       "    </tr>\n",
       "    <tr>\n",
       "      <th>3371</th>\n",
       "      <td>ZEF</td>\n",
       "      <td>Elkin Municipal</td>\n",
       "      <td>Elkin</td>\n",
       "      <td>NC</td>\n",
       "      <td>USA</td>\n",
       "      <td>36.280024</td>\n",
       "      <td>-80.786069</td>\n",
       "    </tr>\n",
       "    <tr>\n",
       "      <th>3372</th>\n",
       "      <td>ZER</td>\n",
       "      <td>Schuylkill Cty/Joe Zerbey</td>\n",
       "      <td>Pottsville</td>\n",
       "      <td>PA</td>\n",
       "      <td>USA</td>\n",
       "      <td>40.706449</td>\n",
       "      <td>-76.373147</td>\n",
       "    </tr>\n",
       "    <tr>\n",
       "      <th>3373</th>\n",
       "      <td>ZPH</td>\n",
       "      <td>Zephyrhills Municipal</td>\n",
       "      <td>Zephyrhills</td>\n",
       "      <td>FL</td>\n",
       "      <td>USA</td>\n",
       "      <td>28.228065</td>\n",
       "      <td>-82.155916</td>\n",
       "    </tr>\n",
       "    <tr>\n",
       "      <th>3374</th>\n",
       "      <td>ZUN</td>\n",
       "      <td>Black Rock</td>\n",
       "      <td>Zuni</td>\n",
       "      <td>NM</td>\n",
       "      <td>USA</td>\n",
       "      <td>35.083227</td>\n",
       "      <td>-108.791777</td>\n",
       "    </tr>\n",
       "    <tr>\n",
       "      <th>3375</th>\n",
       "      <td>ZZV</td>\n",
       "      <td>Zanesville Municipal</td>\n",
       "      <td>Zanesville</td>\n",
       "      <td>OH</td>\n",
       "      <td>USA</td>\n",
       "      <td>39.944458</td>\n",
       "      <td>-81.892105</td>\n",
       "    </tr>\n",
       "  </tbody>\n",
       "</table>\n",
       "<p>3376 rows × 7 columns</p>\n",
       "</div>"
      ],
      "text/plain": [
       "     iata                    airport              city state country  \\\n",
       "0     00M                   Thigpen        Bay Springs    MS     USA   \n",
       "1     00R       Livingston Municipal        Livingston    TX     USA   \n",
       "2     00V                Meadow Lake  Colorado Springs    CO     USA   \n",
       "3     01G               Perry-Warsaw             Perry    NY     USA   \n",
       "4     01J           Hilliard Airpark          Hilliard    FL     USA   \n",
       "...   ...                        ...               ...   ...     ...   \n",
       "3371  ZEF            Elkin Municipal             Elkin    NC     USA   \n",
       "3372  ZER  Schuylkill Cty/Joe Zerbey        Pottsville    PA     USA   \n",
       "3373  ZPH      Zephyrhills Municipal       Zephyrhills    FL     USA   \n",
       "3374  ZUN                 Black Rock              Zuni    NM     USA   \n",
       "3375  ZZV       Zanesville Municipal        Zanesville    OH     USA   \n",
       "\n",
       "            lat        long  \n",
       "0     31.953765  -89.234505  \n",
       "1     30.685861  -95.017928  \n",
       "2     38.945749 -104.569893  \n",
       "3     42.741347  -78.052081  \n",
       "4     30.688012  -81.905944  \n",
       "...         ...         ...  \n",
       "3371  36.280024  -80.786069  \n",
       "3372  40.706449  -76.373147  \n",
       "3373  28.228065  -82.155916  \n",
       "3374  35.083227 -108.791777  \n",
       "3375  39.944458  -81.892105  \n",
       "\n",
       "[3376 rows x 7 columns]"
      ]
     },
     "execution_count": 5,
     "metadata": {},
     "output_type": "execute_result"
    }
   ],
   "source": [
    "airports"
   ]
  },
  {
   "cell_type": "markdown",
   "id": "ee2e915e",
   "metadata": {},
   "source": [
    "Then, create the table for ontime (several csv files)"
   ]
  },
  {
   "cell_type": "code",
   "execution_count": 6,
   "id": "561826b3",
   "metadata": {},
   "outputs": [],
   "source": [
    "c = conn.cursor()"
   ]
  },
  {
   "cell_type": "code",
   "execution_count": 7,
   "id": "6cc3d84f",
   "metadata": {},
   "outputs": [
    {
     "name": "stderr",
     "output_type": "stream",
     "text": [
      "C:\\Users\\Thunderobot\\anaconda3\\lib\\site-packages\\IPython\\core\\interactiveshell.py:3444: DtypeWarning: Columns (22) have mixed types.Specify dtype option on import or set low_memory=False.\n",
      "  exec(code_obj, self.user_global_ns, self.user_ns)\n"
     ]
    }
   ],
   "source": [
    "for year in range(2000,2006):\n",
    "    ontime = pd.read_csv(str(year)+\".csv\", encoding = \"ISO-8859-1\")\n",
    "    ontime.to_sql('ontime', con = conn, if_exists = 'append', index = False)\n",
    "    \n",
    "conn.commit()"
   ]
  },
  {
   "cell_type": "markdown",
   "id": "aae5b51e",
   "metadata": {},
   "source": [
    "## Run queries\n",
    "Query 1: Find model that has the lowest associated average departure delay."
   ]
  },
  {
   "cell_type": "code",
   "execution_count": 8,
   "id": "78a11cbf",
   "metadata": {},
   "outputs": [
    {
     "name": "stdout",
     "output_type": "stream",
     "text": [
      "737-2Y5 has the lowest associated average departure delay.\n"
     ]
    }
   ],
   "source": [
    "c.execute('''\n",
    "SELECT model AS model, AVG(ontime.DepDelay) AS avg_delay\n",
    "FROM planes JOIN ontime USING(tailnum)\n",
    "WHERE ontime.Cancelled = 0 AND ontime.Diverted = 0 AND ontime.DepDelay > 0\n",
    "GROUP BY model\n",
    "ORDER BY avg_delay\n",
    "''')\n",
    "\n",
    "print(c.fetchone()[0], \"has the lowest associated average departure delay.\")"
   ]
  },
  {
   "cell_type": "markdown",
   "id": "e17d3b3d",
   "metadata": {},
   "source": [
    "Query 2: Find the city that has the highest number of inbound flights (excluding cancelled flights)."
   ]
  },
  {
   "cell_type": "code",
   "execution_count": 9,
   "id": "b34bb639",
   "metadata": {},
   "outputs": [
    {
     "name": "stdout",
     "output_type": "stream",
     "text": [
      "Chicago has the highest number of inbound flights (excluding cancelled flights).\n"
     ]
    }
   ],
   "source": [
    "c.execute('''\n",
    "SELECT airports.city AS city, COUNT(*) AS total\n",
    "FROM airports JOIN ontime ON airports.iata = ontime.Dest\n",
    "WHERE ontime.Cancelled = 0\n",
    "GROUP BY airports.city\n",
    "ORDER BY total DESC\n",
    "''')\n",
    "\n",
    "print(c.fetchone()[0], \"has the highest number of inbound flights (excluding cancelled flights).\")"
   ]
  },
  {
   "cell_type": "markdown",
   "id": "85235c1e",
   "metadata": {},
   "source": [
    "Query 3: Find the carrier that has the highest number of cancelled flights."
   ]
  },
  {
   "cell_type": "code",
   "execution_count": 10,
   "id": "50bc6b5a",
   "metadata": {},
   "outputs": [
    {
     "name": "stdout",
     "output_type": "stream",
     "text": [
      "Delta Air Lines Inc. has the highest number of cancelled flights.\n"
     ]
    }
   ],
   "source": [
    "c.execute('''\n",
    "SELECT carriers.Description AS carrier, COUNT(*) AS total\n",
    "FROM carriers JOIN ontime ON ontime.UniqueCarrier = carriers.Code\n",
    "WHERE ontime.Cancelled = 1 \n",
    "AND carriers.Description IN ('United Air Lines Inc.', 'American Airlines Inc.', 'Pinnacle Airlines Inc.', 'Delta Air Lines Inc.')\n",
    "GROUP BY carriers.Description\n",
    "ORDER BY total DESC\n",
    "''')\n",
    "\n",
    "print(c.fetchone()[0], \"has the highest number of cancelled flights.\")"
   ]
  },
  {
   "cell_type": "markdown",
   "id": "81db671e",
   "metadata": {},
   "source": [
    "Query 4: Find the carrier that has the highest number of cancelled flights, relative to their number of total flights."
   ]
  },
  {
   "cell_type": "code",
   "execution_count": 11,
   "id": "eb983bc7",
   "metadata": {},
   "outputs": [
    {
     "name": "stdout",
     "output_type": "stream",
     "text": [
      "United Air Lines Inc. has the highest number of cancelled flights, relative to their number of total flights.\n"
     ]
    }
   ],
   "source": [
    "c.execute('''\n",
    "SELECT q1.carrier as carrier, (CAST(q1.numerator AS FLOAT)/ CAST(q2.denominator AS FLOAT)) AS ratio\n",
    "FROM\n",
    "(\n",
    "  SELECT carriers.Description as carrier, COUNT(*) AS numerator\n",
    "  FROM carriers JOIN ontime ON ontime.UniqueCarrier = carriers.Code\n",
    "  WHERE ontime.Cancelled = 1 AND carriers.Description IN ('United Air Lines Inc.', 'American Airlines Inc.', 'Pinnacle Airlines Inc.', 'Delta Air Lines Inc.')\n",
    "  GROUP BY carriers.Description\n",
    ") AS q1 JOIN\n",
    "(\n",
    "  SELECT carriers.Description AS carrier, COUNT(*) AS denominator\n",
    "  FROM carriers JOIN ontime ON ontime.UniqueCarrier = carriers.Code\n",
    "  WHERE carriers.Description IN ('United Air Lines Inc.', 'American Airlines Inc.', 'Pinnacle Airlines Inc.', 'Delta Air Lines Inc.')\n",
    "  GROUP BY carriers.Description\n",
    ") AS q2 USING(carrier)\n",
    "ORDER BY ratio DESC\n",
    "''')\n",
    "\n",
    "print(c.fetchone()[0], \"has the highest number of cancelled flights, relative to their number of total flights.\")"
   ]
  },
  {
   "cell_type": "markdown",
   "id": "f3c12d58",
   "metadata": {},
   "source": [
    "## Close connection"
   ]
  },
  {
   "cell_type": "code",
   "execution_count": null,
   "id": "3744f546",
   "metadata": {},
   "outputs": [],
   "source": [
    "conn.close()"
   ]
  }
 ],
 "metadata": {
  "kernelspec": {
   "display_name": "Python 3 (ipykernel)",
   "language": "python",
   "name": "python3"
  },
  "language_info": {
   "codemirror_mode": {
    "name": "ipython",
    "version": 3
   },
   "file_extension": ".py",
   "mimetype": "text/x-python",
   "name": "python",
   "nbconvert_exporter": "python",
   "pygments_lexer": "ipython3",
   "version": "3.9.7"
  }
 },
 "nbformat": 4,
 "nbformat_minor": 5
}
